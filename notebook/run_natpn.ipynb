{
 "cells": [
  {
   "attachments": {},
   "cell_type": "markdown",
   "metadata": {},
   "source": [
    "### Natural Posterior Network"
   ]
  },
  {
   "cell_type": "code",
   "execution_count": null,
   "metadata": {},
   "outputs": [],
   "source": [
    "import pytorch_lightning as pl\n",
    "from src.datasets import DATASET_REGISTRY\n",
    "from src.models import suppress_pytorch_lightning_logs\n",
    "from src.models.natpn.lightning import NaturalPosteriorNetwork\n",
    "\n",
    "seed = 42\n",
    "suppress_pytorch_lightning_logs()\n",
    "pl.seed_everything(seed)\n",
    "dm = DATASET_REGISTRY[\"blob\"](seed=seed)\n",
    "dm.prepare_data()\n",
    "dm.setup(\"test\")"
   ]
  },
  {
   "cell_type": "code",
   "execution_count": null,
   "metadata": {},
   "outputs": [],
   "source": [
    "trainer_params = dict(\n",
    "    jnable_checkpointing=False,\n",
    "    enable_progress_bar=True,\n",
    "    enable_model_summary=True,\n",
    "    # fast_dev_run=1,\n",
    "    max_epochs=1,\n",
    "    gpus=0,\n",
    ")\n",
    "\n",
    "params_dict = dict(\n",
    "    latent_dim=4,\n",
    "    encoder=\"tabular\",\n",
    "    flow=\"radial\",\n",
    "    flow_num_layers=4,\n",
    "    residual=True,\n",
    "    spectral=(False, False, False),\n",
    "    lipschitz_constant=1,\n",
    "    entropy_weight=1e-5,\n",
    "    reconst_weight=0.1,\n",
    "    evidence_scaler=1.0,\n",
    "    # pretrained_enc_path=\"\",  # Load a pretrained encoder\n",
    "    learning_rate=1e-1,\n",
    "    learning_rate_head=1e-4,\n",
    "    optim=\"adamw\",\n",
    "    warmup_epochs=1,\n",
    "    finetune_epochs=1,\n",
    "    trainer_params=trainer_params,\n",
    ")"
   ]
  },
  {
   "cell_type": "code",
   "execution_count": null,
   "metadata": {},
   "outputs": [],
   "source": [
    "estimator = NaturalPosteriorNetwork(**params_dict)\n",
    "estimator.fit(dm)\n",
    "result_id = estimator.score(dm)\n",
    "result_ood = estimator.score_ood_detection(dm)\n",
    "\n",
    "print(result_id)\n",
    "print(result_ood)"
   ]
  },
  {
   "cell_type": "code",
   "execution_count": null,
   "metadata": {},
   "outputs": [],
   "source": []
  }
 ],
 "metadata": {
  "kernelspec": {
   "display_name": "natpn-improve",
   "language": "python",
   "name": "python3"
  },
  "language_info": {
   "codemirror_mode": {
    "name": "ipython",
    "version": 3
   },
   "file_extension": ".py",
   "mimetype": "text/x-python",
   "name": "python",
   "nbconvert_exporter": "python",
   "pygments_lexer": "ipython3",
   "version": "3.10.9"
  },
  "orig_nbformat": 4
 },
 "nbformat": 4,
 "nbformat_minor": 2
}
